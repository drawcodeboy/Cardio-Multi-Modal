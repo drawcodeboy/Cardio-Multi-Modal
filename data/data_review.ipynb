{
 "cells": [
  {
   "cell_type": "code",
   "execution_count": 1,
   "id": "bdb7ace2-bd19-4ac8-bb0d-c0b328f86d21",
   "metadata": {
    "execution": {
     "iopub.execute_input": "2024-10-11T07:07:31.248490Z",
     "iopub.status.busy": "2024-10-11T07:07:31.247490Z",
     "iopub.status.idle": "2024-10-11T07:07:33.179184Z",
     "shell.execute_reply": "2024-10-11T07:07:33.179184Z",
     "shell.execute_reply.started": "2024-10-11T07:07:31.248490Z"
    }
   },
   "outputs": [],
   "source": [
    "import pandas as pd"
   ]
  },
  {
   "cell_type": "code",
   "execution_count": 3,
   "id": "da4435e3-6411-454c-8306-e7eb904ea900",
   "metadata": {
    "execution": {
     "iopub.execute_input": "2024-10-11T07:08:09.697501Z",
     "iopub.status.busy": "2024-10-11T07:08:09.696499Z",
     "iopub.status.idle": "2024-10-11T07:08:09.708143Z",
     "shell.execute_reply": "2024-10-11T07:08:09.708143Z",
     "shell.execute_reply.started": "2024-10-11T07:08:09.697501Z"
    }
   },
   "outputs": [],
   "source": [
    "df = pd.read_csv(\"physionet.org/files/ephnogram/1.0.0/ECGPCGSpreadsheet.csv\")"
   ]
  },
  {
   "cell_type": "markdown",
   "id": "927e235c-661b-4ee2-bd6d-c42be5e319ec",
   "metadata": {},
   "source": [
    "# Feature Extraction\n",
    "* <code>Record Name</code> - Identifier\n",
    "* <code>Record Duration (min)</code> - Sequence Length\n",
    "* <code>Recording Scenario</code> - Label"
   ]
  },
  {
   "cell_type": "code",
   "execution_count": 11,
   "id": "de970677-c658-470b-b5f2-8491c3899a5c",
   "metadata": {
    "execution": {
     "iopub.execute_input": "2024-10-11T07:49:02.346488Z",
     "iopub.status.busy": "2024-10-11T07:49:02.345473Z",
     "iopub.status.idle": "2024-10-11T07:49:02.430208Z",
     "shell.execute_reply": "2024-10-11T07:49:02.429195Z",
     "shell.execute_reply.started": "2024-10-11T07:49:02.346488Z"
    }
   },
   "outputs": [
    {
     "name": "stdout",
     "output_type": "stream",
     "text": [
      "<class 'pandas.core.frame.DataFrame'>\n",
      "RangeIndex: 70 entries, 0 to 69\n",
      "Data columns (total 45 columns):\n",
      " #   Column                 Non-Null Count  Dtype  \n",
      "---  ------                 --------------  -----  \n",
      " 0   Record Name            69 non-null     object \n",
      " 1   Subject ID             69 non-null     object \n",
      " 2   Record Duration (min)  69 non-null     float64\n",
      " 3   Age (years)            65 non-null     float64\n",
      " 4   Gender                 69 non-null     object \n",
      " 5   Recording Scenario     69 non-null     object \n",
      " 6   Num Channels           69 non-null     float64\n",
      " 7   ECG Notes              69 non-null     object \n",
      " 8   PCG Notes              69 non-null     object \n",
      " 9   PCG2 Notes             58 non-null     object \n",
      " 10  AUX1 Notes             58 non-null     object \n",
      " 11  AUX2 Notes             58 non-null     object \n",
      " 12  Database Housekeeping  4 non-null      object \n",
      " 13  Unnamed: 13            0 non-null      float64\n",
      " 14  Unnamed: 14            0 non-null      float64\n",
      " 15  Unnamed: 15            0 non-null      float64\n",
      " 16  Unnamed: 16            0 non-null      float64\n",
      " 17  Unnamed: 17            0 non-null      float64\n",
      " 18  Unnamed: 18            0 non-null      float64\n",
      " 19  Unnamed: 19            0 non-null      float64\n",
      " 20  Unnamed: 20            0 non-null      float64\n",
      " 21  Unnamed: 21            0 non-null      float64\n",
      " 22  Unnamed: 22            0 non-null      float64\n",
      " 23  Unnamed: 23            0 non-null      float64\n",
      " 24  Unnamed: 24            0 non-null      float64\n",
      " 25  Unnamed: 25            0 non-null      float64\n",
      " 26  Unnamed: 26            0 non-null      float64\n",
      " 27  Unnamed: 27            0 non-null      float64\n",
      " 28  Unnamed: 28            0 non-null      float64\n",
      " 29  Unnamed: 29            0 non-null      float64\n",
      " 30  Unnamed: 30            0 non-null      float64\n",
      " 31  Unnamed: 31            0 non-null      float64\n",
      " 32  Unnamed: 32            0 non-null      float64\n",
      " 33  Unnamed: 33            0 non-null      float64\n",
      " 34  Unnamed: 34            0 non-null      float64\n",
      " 35  Unnamed: 35            0 non-null      float64\n",
      " 36  Unnamed: 36            0 non-null      float64\n",
      " 37  Unnamed: 37            0 non-null      float64\n",
      " 38  Unnamed: 38            0 non-null      float64\n",
      " 39  Unnamed: 39            0 non-null      float64\n",
      " 40  Unnamed: 40            0 non-null      float64\n",
      " 41  Unnamed: 41            0 non-null      float64\n",
      " 42  Unnamed: 42            0 non-null      float64\n",
      " 43  Unnamed: 43            0 non-null      float64\n",
      " 44  Unnamed: 44            0 non-null      float64\n",
      "dtypes: float64(35), object(10)\n",
      "memory usage: 24.7+ KB\n"
     ]
    }
   ],
   "source": [
    "df.info()"
   ]
  },
  {
   "cell_type": "code",
   "execution_count": 4,
   "id": "3cc04fad-c2fc-474e-87fb-5bd95ae5e6ec",
   "metadata": {
    "execution": {
     "iopub.execute_input": "2024-10-11T07:08:16.839233Z",
     "iopub.status.busy": "2024-10-11T07:08:16.838247Z",
     "iopub.status.idle": "2024-10-11T07:08:16.870802Z",
     "shell.execute_reply": "2024-10-11T07:08:16.869787Z",
     "shell.execute_reply.started": "2024-10-11T07:08:16.839233Z"
    }
   },
   "outputs": [
    {
     "data": {
      "text/html": [
       "<div>\n",
       "<style scoped>\n",
       "    .dataframe tbody tr th:only-of-type {\n",
       "        vertical-align: middle;\n",
       "    }\n",
       "\n",
       "    .dataframe tbody tr th {\n",
       "        vertical-align: top;\n",
       "    }\n",
       "\n",
       "    .dataframe thead th {\n",
       "        text-align: right;\n",
       "    }\n",
       "</style>\n",
       "<table border=\"1\" class=\"dataframe\">\n",
       "  <thead>\n",
       "    <tr style=\"text-align: right;\">\n",
       "      <th></th>\n",
       "      <th>Record Name</th>\n",
       "      <th>Subject ID</th>\n",
       "      <th>Record Duration (min)</th>\n",
       "      <th>Age (years)</th>\n",
       "      <th>Gender</th>\n",
       "      <th>Recording Scenario</th>\n",
       "      <th>Num Channels</th>\n",
       "      <th>ECG Notes</th>\n",
       "      <th>PCG Notes</th>\n",
       "      <th>PCG2 Notes</th>\n",
       "      <th>...</th>\n",
       "      <th>Unnamed: 35</th>\n",
       "      <th>Unnamed: 36</th>\n",
       "      <th>Unnamed: 37</th>\n",
       "      <th>Unnamed: 38</th>\n",
       "      <th>Unnamed: 39</th>\n",
       "      <th>Unnamed: 40</th>\n",
       "      <th>Unnamed: 41</th>\n",
       "      <th>Unnamed: 42</th>\n",
       "      <th>Unnamed: 43</th>\n",
       "      <th>Unnamed: 44</th>\n",
       "    </tr>\n",
       "  </thead>\n",
       "  <tbody>\n",
       "    <tr>\n",
       "      <th>0</th>\n",
       "      <td>ECGPCG0001</td>\n",
       "      <td>S023</td>\n",
       "      <td>30.0</td>\n",
       "      <td>NaN</td>\n",
       "      <td>Male</td>\n",
       "      <td>Exercise: pedaling a stationary bicycle</td>\n",
       "      <td>2.0</td>\n",
       "      <td>Good</td>\n",
       "      <td>Good</td>\n",
       "      <td>NaN</td>\n",
       "      <td>...</td>\n",
       "      <td>NaN</td>\n",
       "      <td>NaN</td>\n",
       "      <td>NaN</td>\n",
       "      <td>NaN</td>\n",
       "      <td>NaN</td>\n",
       "      <td>NaN</td>\n",
       "      <td>NaN</td>\n",
       "      <td>NaN</td>\n",
       "      <td>NaN</td>\n",
       "      <td>NaN</td>\n",
       "    </tr>\n",
       "    <tr>\n",
       "      <th>1</th>\n",
       "      <td>ECGPCG0002</td>\n",
       "      <td>S024</td>\n",
       "      <td>30.0</td>\n",
       "      <td>NaN</td>\n",
       "      <td>Male</td>\n",
       "      <td>Exercise: pedaling a stationary bicycle</td>\n",
       "      <td>2.0</td>\n",
       "      <td>Good; occasional saturation</td>\n",
       "      <td>Good</td>\n",
       "      <td>NaN</td>\n",
       "      <td>...</td>\n",
       "      <td>NaN</td>\n",
       "      <td>NaN</td>\n",
       "      <td>NaN</td>\n",
       "      <td>NaN</td>\n",
       "      <td>NaN</td>\n",
       "      <td>NaN</td>\n",
       "      <td>NaN</td>\n",
       "      <td>NaN</td>\n",
       "      <td>NaN</td>\n",
       "      <td>NaN</td>\n",
       "    </tr>\n",
       "    <tr>\n",
       "      <th>2</th>\n",
       "      <td>ECGPCG0003</td>\n",
       "      <td>S003</td>\n",
       "      <td>0.5</td>\n",
       "      <td>28.0</td>\n",
       "      <td>Male</td>\n",
       "      <td>Rest: sitting on armchair</td>\n",
       "      <td>2.0</td>\n",
       "      <td>Good</td>\n",
       "      <td>Good</td>\n",
       "      <td>NaN</td>\n",
       "      <td>...</td>\n",
       "      <td>NaN</td>\n",
       "      <td>NaN</td>\n",
       "      <td>NaN</td>\n",
       "      <td>NaN</td>\n",
       "      <td>NaN</td>\n",
       "      <td>NaN</td>\n",
       "      <td>NaN</td>\n",
       "      <td>NaN</td>\n",
       "      <td>NaN</td>\n",
       "      <td>NaN</td>\n",
       "    </tr>\n",
       "    <tr>\n",
       "      <th>3</th>\n",
       "      <td>ECGPCG0004</td>\n",
       "      <td>S004</td>\n",
       "      <td>0.5</td>\n",
       "      <td>26.0</td>\n",
       "      <td>Male</td>\n",
       "      <td>Rest: sitting on armchair</td>\n",
       "      <td>5.0</td>\n",
       "      <td>Good</td>\n",
       "      <td>Occasional burst powerline noise</td>\n",
       "      <td>Quantization noise level</td>\n",
       "      <td>...</td>\n",
       "      <td>NaN</td>\n",
       "      <td>NaN</td>\n",
       "      <td>NaN</td>\n",
       "      <td>NaN</td>\n",
       "      <td>NaN</td>\n",
       "      <td>NaN</td>\n",
       "      <td>NaN</td>\n",
       "      <td>NaN</td>\n",
       "      <td>NaN</td>\n",
       "      <td>NaN</td>\n",
       "    </tr>\n",
       "    <tr>\n",
       "      <th>4</th>\n",
       "      <td>ECGPCG0005</td>\n",
       "      <td>S005</td>\n",
       "      <td>0.5</td>\n",
       "      <td>23.0</td>\n",
       "      <td>Male</td>\n",
       "      <td>Rest: sitting on armchair</td>\n",
       "      <td>5.0</td>\n",
       "      <td>Good</td>\n",
       "      <td>Occasional burst powerline noise</td>\n",
       "      <td>Quantization noise level</td>\n",
       "      <td>...</td>\n",
       "      <td>NaN</td>\n",
       "      <td>NaN</td>\n",
       "      <td>NaN</td>\n",
       "      <td>NaN</td>\n",
       "      <td>NaN</td>\n",
       "      <td>NaN</td>\n",
       "      <td>NaN</td>\n",
       "      <td>NaN</td>\n",
       "      <td>NaN</td>\n",
       "      <td>NaN</td>\n",
       "    </tr>\n",
       "  </tbody>\n",
       "</table>\n",
       "<p>5 rows × 45 columns</p>\n",
       "</div>"
      ],
      "text/plain": [
       "  Record Name Subject ID  Record Duration (min)  Age (years) Gender  \\\n",
       "0  ECGPCG0001       S023                   30.0          NaN   Male   \n",
       "1  ECGPCG0002       S024                   30.0          NaN   Male   \n",
       "2  ECGPCG0003       S003                    0.5         28.0   Male   \n",
       "3  ECGPCG0004       S004                    0.5         26.0   Male   \n",
       "4  ECGPCG0005       S005                    0.5         23.0   Male   \n",
       "\n",
       "                        Recording Scenario  Num Channels  \\\n",
       "0  Exercise: pedaling a stationary bicycle           2.0   \n",
       "1  Exercise: pedaling a stationary bicycle           2.0   \n",
       "2                Rest: sitting on armchair           2.0   \n",
       "3                Rest: sitting on armchair           5.0   \n",
       "4                Rest: sitting on armchair           5.0   \n",
       "\n",
       "                     ECG Notes                         PCG Notes  \\\n",
       "0                         Good                              Good   \n",
       "1  Good; occasional saturation                              Good   \n",
       "2                         Good                              Good   \n",
       "3                         Good  Occasional burst powerline noise   \n",
       "4                         Good  Occasional burst powerline noise   \n",
       "\n",
       "                  PCG2 Notes  ... Unnamed: 35 Unnamed: 36 Unnamed: 37  \\\n",
       "0                        NaN  ...         NaN         NaN         NaN   \n",
       "1                        NaN  ...         NaN         NaN         NaN   \n",
       "2                        NaN  ...         NaN         NaN         NaN   \n",
       "3  Quantization noise level   ...         NaN         NaN         NaN   \n",
       "4  Quantization noise level   ...         NaN         NaN         NaN   \n",
       "\n",
       "   Unnamed: 38  Unnamed: 39  Unnamed: 40  Unnamed: 41  Unnamed: 42  \\\n",
       "0          NaN          NaN          NaN          NaN          NaN   \n",
       "1          NaN          NaN          NaN          NaN          NaN   \n",
       "2          NaN          NaN          NaN          NaN          NaN   \n",
       "3          NaN          NaN          NaN          NaN          NaN   \n",
       "4          NaN          NaN          NaN          NaN          NaN   \n",
       "\n",
       "   Unnamed: 43  Unnamed: 44  \n",
       "0          NaN          NaN  \n",
       "1          NaN          NaN  \n",
       "2          NaN          NaN  \n",
       "3          NaN          NaN  \n",
       "4          NaN          NaN  \n",
       "\n",
       "[5 rows x 45 columns]"
      ]
     },
     "execution_count": 4,
     "metadata": {},
     "output_type": "execute_result"
    }
   ],
   "source": [
    "df.head()"
   ]
  },
  {
   "cell_type": "code",
   "execution_count": 6,
   "id": "0f685c9d-f64b-43e5-a9af-528a4cddc977",
   "metadata": {
    "execution": {
     "iopub.execute_input": "2024-10-11T07:13:05.238868Z",
     "iopub.status.busy": "2024-10-11T07:13:05.237867Z",
     "iopub.status.idle": "2024-10-11T07:13:05.245958Z",
     "shell.execute_reply": "2024-10-11T07:13:05.244946Z",
     "shell.execute_reply.started": "2024-10-11T07:13:05.238868Z"
    }
   },
   "outputs": [
    {
     "data": {
      "text/plain": [
       "array([30. ,  0.5,  nan])"
      ]
     },
     "execution_count": 6,
     "metadata": {},
     "output_type": "execute_result"
    }
   ],
   "source": [
    "# Type of Sequence Length\n",
    "df[\"Record Duration (min)\"].unique()"
   ]
  },
  {
   "cell_type": "code",
   "execution_count": 10,
   "id": "8d951539-a58d-4f94-8883-1bde11a48b70",
   "metadata": {
    "execution": {
     "iopub.execute_input": "2024-10-11T07:18:47.482843Z",
     "iopub.status.busy": "2024-10-11T07:18:47.482843Z",
     "iopub.status.idle": "2024-10-11T07:18:47.490233Z",
     "shell.execute_reply": "2024-10-11T07:18:47.489219Z",
     "shell.execute_reply.started": "2024-10-11T07:18:47.482843Z"
    }
   },
   "outputs": [
    {
     "data": {
      "text/plain": [
       "array(['Exercise: pedaling a stationary bicycle',\n",
       "       'Rest: sitting on armchair', 'Rest: laying on bed',\n",
       "       'Exercise: slow walk (7 min); fast walk (8 min); sit down and stand up (4 min); slow walk (6 min);rest',\n",
       "       'Exercise: slow walk (7 min); fast walk (8 min); sit down and stand up (4 min); slow walk (6 min); rest',\n",
       "       'Exercise: Bruce protocol treadmill stress test',\n",
       "       'Exercise: walking at constant speed (3.7 km/h) ',\n",
       "       'Exercise: bicycle stress test', nan], dtype=object)"
      ]
     },
     "execution_count": 10,
     "metadata": {},
     "output_type": "execute_result"
    }
   ],
   "source": [
    "# Type of Recording Scenario(Label), 8(without NaN)\n",
    "df[\"Recording Scenario\"].unique()"
   ]
  }
 ],
 "metadata": {
  "kernelspec": {
   "display_name": "Python 3 (ipykernel)",
   "language": "python",
   "name": "python3"
  },
  "language_info": {
   "codemirror_mode": {
    "name": "ipython",
    "version": 3
   },
   "file_extension": ".py",
   "mimetype": "text/x-python",
   "name": "python",
   "nbconvert_exporter": "python",
   "pygments_lexer": "ipython3",
   "version": "3.12.4"
  }
 },
 "nbformat": 4,
 "nbformat_minor": 5
}
